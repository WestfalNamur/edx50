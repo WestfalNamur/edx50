{
 "cells": [
  {
   "cell_type": "markdown",
   "metadata": {},
   "source": [
    "# 1.1.1 Python Basics"
   ]
  },
  {
   "cell_type": "markdown",
   "metadata": {},
   "source": [
    "Python has two modes, an interactive to experimenting with your code and the standard is ideal to run code from start to finish.\n",
    "A Python distribution is Python + a set of packages that work together."
   ]
  },
  {
   "cell_type": "markdown",
   "metadata": {},
   "source": [
    "# 1.1.2 Objects"
   ]
  },
  {
   "cell_type": "markdown",
   "metadata": {},
   "source": [
    "Each object in Python has three characteristics, type, value, and identity. Type tells what kind of object. Value is the data value contained by the object. Identity like an identity number of the object. Each object in memory has an identity number. Each object has methods, and/or attributes. An instance is an occurrence of an object."
   ]
  },
  {
   "cell_type": "markdown",
   "metadata": {},
   "source": [
    "# 1.1.3 Modules and Methodes"
   ]
  },
  {
   "cell_type": "code",
   "execution_count": 1,
   "metadata": {},
   "outputs": [
    {
     "name": "stdout",
     "output_type": "stream",
     "text": [
      "Help on built-in function upper:\n",
      "\n",
      "upper(...) method of builtins.str instance\n",
      "    S.upper() -> str\n",
      "    \n",
      "    Return a copy of S converted to uppercase.\n",
      "\n"
     ]
    },
    {
     "data": {
      "text/plain": [
       "'AMY'"
      ]
     },
     "execution_count": 1,
     "metadata": {},
     "output_type": "execute_result"
    }
   ],
   "source": [
    "# imports => 1. new namespace; 2. executes code of module within the\n",
    "# namespace; 3. creates name \"np\" as reference to namespace;\n",
    "import numpy as n\n",
    "\n",
    "\n",
    "name = \"Amy\"\n",
    "\n",
    "# get type of object\n",
    "type(name)\n",
    "\n",
    "# get directory of the methodes by obj itself or its type\n",
    "dir(name)\n",
    "dir(str)\n",
    "\n",
    "# get infos about methode\n",
    "help(name.upper)\n",
    "\n",
    "# call name-obj-methode\n",
    "name.upper()"
   ]
  },
  {
   "cell_type": "markdown",
   "metadata": {},
   "source": [
    "# 1.1.4 Numbers and Basic Calculations"
   ]
  },
  {
   "cell_type": "markdown",
   "metadata": {},
   "source": [
    "Python provides three types of numeric types, Integers, Floating Point and Complex. Pythons integers have unlimited precision. They are mixable. Floor devision \"//\". The interacive mode provides a underscore operator. Its value is always the last object that python has returned to you."
   ]
  },
  {
   "cell_type": "code",
   "execution_count": 17,
   "metadata": {},
   "outputs": [
    {
     "data": {
      "text/plain": [
       "390625"
      ]
     },
     "execution_count": 17,
     "metadata": {},
     "output_type": "execute_result"
    }
   ],
   "source": [
    "# devision\n",
    "15 / 7  # 2.14.......\n",
    "\n",
    "# floor devision\n",
    "15 // 7 # 2 => rounding to closes integer\n",
    "\n",
    "# underscore operator # wont work her as _ is whats returned from the \n",
    "# whole cell.\n",
    "10 * 5\n",
    "_ + 5\n",
    "_ ** 2"
   ]
  },
  {
   "cell_type": "code",
   "execution_count": 14,
   "metadata": {},
   "outputs": [
    {
     "data": {
      "text/plain": [
       "20"
      ]
     },
     "execution_count": 14,
     "metadata": {},
     "output_type": "execute_result"
    }
   ],
   "source": [
    "10 * 2"
   ]
  },
  {
   "cell_type": "code",
   "execution_count": 15,
   "metadata": {},
   "outputs": [
    {
     "data": {
      "text/plain": [
       "25"
      ]
     },
     "execution_count": 15,
     "metadata": {},
     "output_type": "execute_result"
    }
   ],
   "source": [
    "_ + 5"
   ]
  },
  {
   "cell_type": "code",
   "execution_count": 16,
   "metadata": {},
   "outputs": [
    {
     "data": {
      "text/plain": [
       "625"
      ]
     },
     "execution_count": 16,
     "metadata": {},
     "output_type": "execute_result"
    }
   ],
   "source": [
    "_ ** 2"
   ]
  },
  {
   "cell_type": "markdown",
   "metadata": {},
   "source": [
    "# 1.1.5 Random Choice"
   ]
  },
  {
   "cell_type": "code",
   "execution_count": 27,
   "metadata": {},
   "outputs": [
    {
     "data": {
      "text/plain": [
       "34"
      ]
     },
     "execution_count": 27,
     "metadata": {},
     "output_type": "execute_result"
    }
   ],
   "source": [
    "import random\n",
    "\n",
    "# randomly choose a element from a list. Works for every type of obj.\n",
    "random.choice([2,34,534,3,235,2])"
   ]
  },
  {
   "cell_type": "markdown",
   "metadata": {},
   "source": [
    "# 1.1.6 Expressions and Booleans"
   ]
  },
  {
   "cell_type": "markdown",
   "metadata": {},
   "source": [
    "Expressions are combinations of objects and operators that compute a value. Boolean operators are \"or\", \"and\" and \"not\". \"is\" checks if two\n",
    "references are the same object."
   ]
  },
  {
   "cell_type": "code",
   "execution_count": 28,
   "metadata": {},
   "outputs": [
    {
     "data": {
      "text/plain": [
       "True"
      ]
     },
     "execution_count": 28,
     "metadata": {},
     "output_type": "execute_result"
    }
   ],
   "source": [
    "# python converting of types\n",
    "2 == 2.0  # 2 gets converted to float so \"True\""
   ]
  },
  {
   "cell_type": "code",
   "execution_count": 29,
   "metadata": {},
   "outputs": [
    {
     "data": {
      "text/plain": [
       "True"
      ]
     },
     "execution_count": 29,
     "metadata": {},
     "output_type": "execute_result"
    }
   ],
   "source": [
    "True and not False is True"
   ]
  },
  {
   "cell_type": "markdown",
   "metadata": {},
   "source": [
    "# 1.2.1 Sequences"
   ]
  },
  {
   "cell_type": "markdown",
   "metadata": {},
   "source": [
    "Sequences is a collection o obj orderd by thier position. Lists,\n",
    "Tuples and range objects. "
   ]
  },
  {
   "cell_type": "code",
   "execution_count": 30,
   "metadata": {},
   "outputs": [
    {
     "data": {
      "text/plain": [
       "1"
      ]
     },
     "execution_count": 30,
     "metadata": {},
     "output_type": "execute_result"
    }
   ],
   "source": [
    "(1,2,3)[-0]"
   ]
  },
  {
   "cell_type": "markdown",
   "metadata": {},
   "source": [
    "# 1.2.1 Lists"
   ]
  },
  {
   "cell_type": "markdown",
   "metadata": {},
   "source": [
    "Lists are mutable sequences of objects of any type. Usually used to\n",
    "store homogeneuse items. Lists methodes are inplace-methodes."
   ]
  },
  {
   "cell_type": "markdown",
   "metadata": {},
   "source": [
    "# 1.2.2 Tuples"
   ]
  },
  {
   "cell_type": "markdown",
   "metadata": {},
   "source": [
    "Tuples are immutable sequences. Usecase: If you want to return\n",
    "multiple objects."
   ]
  },
  {
   "cell_type": "code",
   "execution_count": 33,
   "metadata": {},
   "outputs": [],
   "source": [
    "x = 23.45\n",
    "y = 54.35\n",
    "\n",
    "# pack tuple\n",
    "coor = (x, y)\n",
    "\n",
    "# unpack tuple\n",
    "xx, yy = coor"
   ]
  },
  {
   "cell_type": "code",
   "execution_count": 35,
   "metadata": {},
   "outputs": [
    {
     "data": {
      "text/plain": [
       "1"
      ]
     },
     "execution_count": 35,
     "metadata": {},
     "output_type": "execute_result"
    }
   ],
   "source": [
    "x = (1,2,3)\n",
    "\n",
    "x.count(3)"
   ]
  },
  {
   "cell_type": "code",
   "execution_count": 37,
   "metadata": {},
   "outputs": [
    {
     "data": {
      "text/plain": [
       "6"
      ]
     },
     "execution_count": 37,
     "metadata": {},
     "output_type": "execute_result"
    }
   ],
   "source": [
    "sum(x)"
   ]
  },
  {
   "cell_type": "markdown",
   "metadata": {},
   "source": [
    "# 1.2.4 Ranges"
   ]
  },
  {
   "cell_type": "markdown",
   "metadata": {},
   "source": [
    "Ranges are immutable sequences of integers. "
   ]
  },
  {
   "cell_type": "code",
   "execution_count": 44,
   "metadata": {},
   "outputs": [
    {
     "data": {
      "text/plain": [
       "[4, 6, 8, 10]"
      ]
     },
     "execution_count": 44,
     "metadata": {},
     "output_type": "execute_result"
    }
   ],
   "source": [
    "x = list(range(4,11,2))\n",
    "x"
   ]
  },
  {
   "cell_type": "markdown",
   "metadata": {},
   "source": [
    "# 1.2.5 String\n",
    "are immutable squences of characters. "
   ]
  },
  {
   "cell_type": "code",
   "execution_count": 65,
   "metadata": {},
   "outputs": [
    {
     "data": {
      "text/plain": [
       "False"
      ]
     },
     "execution_count": 65,
     "metadata": {},
     "output_type": "execute_result"
    }
   ],
   "source": [
    "x = \"125,000\" \n",
    "x.isdigit()"
   ]
  },
  {
   "cell_type": "markdown",
   "metadata": {},
   "source": [
    "# 1.2.6 Sets\n",
    "Unorderd collections of distinct hashable objects. You can use sets\n",
    "for immutable objects but not for mutable. Sets can not be indexed.\n",
    "Elements can not be dublicated => always unique."
   ]
  },
  {
   "cell_type": "code",
   "execution_count": 79,
   "metadata": {},
   "outputs": [
    {
     "name": "stdout",
     "output_type": "stream",
     "text": [
      "5\n",
      "{1, 2, 3, 4, 5, 8}\n",
      "{0, 2, 4, 6, 8}\n",
      "{0, 1, 2, 3, 4, 5, 6, 7, 8, 9}\n",
      "{4, 5, 6}\n",
      "15\n"
     ]
    }
   ],
   "source": [
    "ids = set()\n",
    "\n",
    "ids = set([1,2,3,4,5])\n",
    "\n",
    "print(len(ids))\n",
    "\n",
    "ids.add(8)\n",
    "\n",
    "print(ids)\n",
    "\n",
    "ids.add(2) # nothing happens scince 2 would be dublicated\n",
    "\n",
    "ids.pop()\n",
    "\n",
    "ids = set(range(10))\n",
    "males = set([1,3,5,7,9])\n",
    "females = ids - males\n",
    "print(females)\n",
    "\n",
    "everyone = females | males\n",
    "print(everyone)\n",
    "\n",
    "intersects = everyone & set([4,5,6,11])\n",
    "print(intersects)\n",
    "\n",
    "word = \"ajkgjklaejwjkewhrbvnlohqpjo\"\n",
    "letters = set(word)\n",
    "print(len(letters))"
   ]
  },
  {
   "cell_type": "markdown",
   "metadata": {},
   "source": [
    "# 1.2.6 Dictionaries\n",
    "Mapping of keys to values. Consits of key-value-pairs with immutable\n",
    "keys. Performant for look ups on unorderd data. They are not orderd\n",
    "like sequences."
   ]
  },
  {
   "cell_type": "code",
   "execution_count": 94,
   "metadata": {},
   "outputs": [],
   "source": [
    "# viewobjects keep track of the dicts viewed."
   ]
  },
  {
   "cell_type": "markdown",
   "metadata": {},
   "source": [
    "# 1.3.1 Dynamic Typing\n",
    "\n",
    "x = 3\n",
    "1st create the object, 2nd create variable name, 3rd insert reference.\n",
    "Variablenames always link to objects, it is therefore always a\n",
    "refrence to another object,and never another variable."
   ]
  },
  {
   "cell_type": "code",
   "execution_count": 96,
   "metadata": {},
   "outputs": [
    {
     "data": {
      "text/plain": [
       "False"
      ]
     },
     "execution_count": 96,
     "metadata": {},
     "output_type": "execute_result"
    }
   ],
   "source": [
    "L = [2,3,4]\n",
    "M1 = L\n",
    "M2 = L[:]\n",
    "M1 is M2"
   ]
  },
  {
   "cell_type": "markdown",
   "metadata": {},
   "source": [
    "# 1.3.2 Copy\n",
    "shallow: creates new compound object and then insert references into\n",
    "to the original one.\n",
    "deep: creates new compound object and then insert copies of the\n",
    "original objects into it."
   ]
  },
  {
   "cell_type": "code",
   "execution_count": 97,
   "metadata": {},
   "outputs": [
    {
     "data": {
      "text/plain": [
       "False"
      ]
     },
     "execution_count": 97,
     "metadata": {},
     "output_type": "execute_result"
    }
   ],
   "source": [
    "import copy\n",
    "x = [1,[2]]\n",
    "y = copy.copy(x)\n",
    "z = copy.deepcopy(x)\n",
    "y is z"
   ]
  },
  {
   "cell_type": "markdown",
   "metadata": {},
   "source": [
    "# 1.3.3 Statements\n",
    "compund statements: Header + [block of code]"
   ]
  },
  {
   "cell_type": "code",
   "execution_count": 99,
   "metadata": {},
   "outputs": [],
   "source": [
    "if x > y:\n",
    "    difference = x - y\n",
    "    print(\"x is greate then y\")"
   ]
  },
  {
   "cell_type": "code",
   "execution_count": 100,
   "metadata": {},
   "outputs": [
    {
     "name": "stdout",
     "output_type": "stream",
     "text": [
      "Now True!\n"
     ]
    }
   ],
   "source": [
    "if False:\n",
    "    print(\"False!\")\n",
    "elif True:\n",
    "    print(\"Now True!\")\n",
    "else:\n",
    "    print(\"Finally True!\")"
   ]
  },
  {
   "cell_type": "code",
   "execution_count": 103,
   "metadata": {},
   "outputs": [
    {
     "name": "stdout",
     "output_type": "stream",
     "text": [
      "even\n"
     ]
    }
   ],
   "source": [
    "if n%2 == 0:\n",
    "  print(\"even\")\n",
    "else:\n",
    "  print(\"odd\")"
   ]
  },
  {
   "cell_type": "markdown",
   "metadata": {},
   "source": [
    "# 1.3.4 For and While Loops"
   ]
  },
  {
   "cell_type": "code",
   "execution_count": 104,
   "metadata": {},
   "outputs": [
    {
     "name": "stdout",
     "output_type": "stream",
     "text": [
      "odd\n"
     ]
    }
   ],
   "source": [
    "bears = {\"Grizzly\":\"angry\", \"Brown\":\"friendly\", \"Polar\":\"friendly\"}\n",
    "\n",
    "for bear in bears:\n",
    "  if bears[bear] == \"freindly\":\n",
    "   print(\"Hello, \"+bear+\" bear!\")\n",
    "else:\n",
    "  print(\"odd\")"
   ]
  },
  {
   "cell_type": "code",
   "execution_count": 112,
   "metadata": {},
   "outputs": [
    {
     "name": "stdout",
     "output_type": "stream",
     "text": [
      "odd\n",
      "Hello, Brown bear!\n",
      "Hello, Polar bear!\n"
     ]
    }
   ],
   "source": [
    "for bear in bears:\n",
    "    if bears[bear] == \"friendly\":\n",
    "        print(\"Hello, \"+bear+\" bear!\")\n",
    "    else:\n",
    "      print(\"odd\")"
   ]
  },
  {
   "cell_type": "code",
   "execution_count": 123,
   "metadata": {},
   "outputs": [
    {
     "name": "stdout",
     "output_type": "stream",
     "text": [
      "Is a prime\n"
     ]
    }
   ],
   "source": [
    "n = 21\n",
    "for i in range(2,n):\n",
    "    if n%i == 0:\n",
    "        break\n",
    "    else:\n",
    "        print(\"Is a prime\")"
   ]
  },
  {
   "cell_type": "code",
   "execution_count": 124,
   "metadata": {},
   "outputs": [
    {
     "name": "stdout",
     "output_type": "stream",
     "text": [
      "7\n"
     ]
    }
   ],
   "source": [
    "n=100\n",
    "number_of_times = 0\n",
    "while n >= 1:\n",
    "   n //= 2\n",
    "   number_of_times += 1\n",
    "print(number_of_times)"
   ]
  },
  {
   "cell_type": "markdown",
   "metadata": {},
   "source": [
    "# 1.3.5 List Comprehension"
   ]
  },
  {
   "cell_type": "code",
   "execution_count": 134,
   "metadata": {},
   "outputs": [
    {
     "data": {
      "text/plain": [
       "[0, 1, 4, 9, 16, 25, 36, 49, 64, 81]"
      ]
     },
     "execution_count": 134,
     "metadata": {},
     "output_type": "execute_result"
    }
   ],
   "source": [
    "x = range(10)\n",
    "y = [i ** 2 for i in x] # fast and elegant\n",
    "y"
   ]
  },
  {
   "cell_type": "code",
   "execution_count": 135,
   "metadata": {},
   "outputs": [
    {
     "data": {
      "text/plain": [
       "5"
      ]
     },
     "execution_count": 135,
     "metadata": {},
     "output_type": "execute_result"
    }
   ],
   "source": [
    "sum([i**2 for i in range(3)])"
   ]
  },
  {
   "cell_type": "code",
   "execution_count": 136,
   "metadata": {},
   "outputs": [
    {
     "data": {
      "text/plain": [
       "25"
      ]
     },
     "execution_count": 136,
     "metadata": {},
     "output_type": "execute_result"
    }
   ],
   "source": [
    "sum_odds = sum([i for i in range(10) if not i % 2 == 0])\n",
    "sum_odds"
   ]
  },
  {
   "cell_type": "markdown",
   "metadata": {},
   "source": [
    "# 1.3.6 Read and write files"
   ]
  },
  {
   "cell_type": "code",
   "execution_count": 149,
   "metadata": {
    "scrolled": true
   },
   "outputs": [
    {
     "name": "stdout",
     "output_type": "stream",
     "text": [
      "['Hello', 'World']\n"
     ]
    }
   ],
   "source": [
    "F = open(\"input.txt\", \"w\")\n",
    "F.write(\"Hello\\nWorld\")\n",
    "F.close()\n",
    "lines = []\n",
    "for line in open(\"input.txt\"):\n",
    "    lines.append(line.strip())\n",
    "print(lines)"
   ]
  },
  {
   "cell_type": "markdown",
   "metadata": {},
   "source": [
    "# 1.3.7 Functions\n"
   ]
  },
  {
   "cell_type": "code",
   "execution_count": 150,
   "metadata": {},
   "outputs": [
    {
     "data": {
      "text/plain": [
       "True"
      ]
     },
     "execution_count": 150,
     "metadata": {},
     "output_type": "execute_result"
    }
   ],
   "source": [
    "def modify(mylist):\n",
    "    mylist[0] *= 10\n",
    "    return(mylist)\n",
    "L = [1, 3, 5, 7, 9]\n",
    "M = modify(L)\n",
    "M is L"
   ]
  },
  {
   "cell_type": "markdown",
   "metadata": {},
   "source": [
    "# 1.3.8 Writing simple functions"
   ]
  },
  {
   "cell_type": "code",
   "execution_count": 153,
   "metadata": {},
   "outputs": [],
   "source": [
    "def intersect(s1, s2):\n",
    "    res = []\n",
    "    for x in s1:\n",
    "        if x in s2:\n",
    "            res.append(x)\n",
    "    return res"
   ]
  },
  {
   "cell_type": "code",
   "execution_count": 164,
   "metadata": {},
   "outputs": [
    {
     "data": {
      "text/plain": [
       "[3]"
      ]
     },
     "execution_count": 164,
     "metadata": {},
     "output_type": "execute_result"
    }
   ],
   "source": [
    "intersect([1,2,3], [3,4,5,6,7])"
   ]
  },
  {
   "cell_type": "code",
   "execution_count": 162,
   "metadata": {},
   "outputs": [],
   "source": [
    "import random\n",
    "\n",
    "def gen_pw(lenght):\n",
    "    pw = str()\n",
    "    chars = \"abcdefghijklmnopqrstuvwxyz\" + \"0123456789\"\n",
    "    for i in range(lenght):\n",
    "        pw += random.choice(chars)\n",
    "    return pw\n",
    "\n",
    "new_pw = gen_pw(10)"
   ]
  },
  {
   "cell_type": "code",
   "execution_count": 178,
   "metadata": {},
   "outputs": [
    {
     "data": {
      "text/plain": [
       "120"
      ]
     },
     "execution_count": 178,
     "metadata": {},
     "output_type": "execute_result"
    }
   ],
   "source": [
    "def factorial(n):\n",
    "   if n == 0:\n",
    "     return 1\n",
    "   else:\n",
    "     N = 1\n",
    "     for i in range(1, n+1):\n",
    "       N *= i\n",
    "     return(N)\n",
    "    \n",
    "factorial(5)"
   ]
  },
  {
   "cell_type": "code",
   "execution_count": 168,
   "metadata": {},
   "outputs": [
    {
     "name": "stdout",
     "output_type": "stream",
     "text": [
      "a\n",
      "e\n",
      "i\n",
      "o\n",
      "u\n",
      "y\n"
     ]
    }
   ],
   "source": [
    "for i in \"aeiouy\":\n",
    "    print(i)"
   ]
  },
  {
   "cell_type": "markdown",
   "metadata": {},
   "source": [
    "# 1.3.9 Common Mistakes\n"
   ]
  }
 ],
 "metadata": {
  "kernelspec": {
   "display_name": "Python 3",
   "language": "python",
   "name": "python3"
  },
  "language_info": {
   "codemirror_mode": {
    "name": "ipython",
    "version": 3
   },
   "file_extension": ".py",
   "mimetype": "text/x-python",
   "name": "python",
   "nbconvert_exporter": "python",
   "pygments_lexer": "ipython3",
   "version": "3.6.9"
  }
 },
 "nbformat": 4,
 "nbformat_minor": 2
}
